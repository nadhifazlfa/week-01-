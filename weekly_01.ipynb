{
  "nbformat": 4,
  "nbformat_minor": 0,
  "metadata": {
    "colab": {
      "provenance": [],
      "authorship_tag": "ABX9TyP9u8u98/1WxXT3oUTUilWs",
      "include_colab_link": true
    },
    "kernelspec": {
      "name": "python3",
      "display_name": "Python 3"
    },
    "language_info": {
      "name": "python"
    }
  },
  "cells": [
    {
      "cell_type": "markdown",
      "metadata": {
        "id": "view-in-github",
        "colab_type": "text"
      },
      "source": [
        "<a href=\"https://colab.research.google.com/github/nadhifazlfa/week-01-/blob/main/weekly_01.ipynb\" target=\"_parent\"><img src=\"https://colab.research.google.com/assets/colab-badge.svg\" alt=\"Open In Colab\"/></a>"
      ]
    },
    {
      "cell_type": "markdown",
      "source": [
        "print(Hello,"
      ],
      "metadata": {
        "id": "krf8CO1qi40w"
      }
    },
    {
      "cell_type": "code",
      "execution_count": null,
      "metadata": {
        "id": "pKvAh0hdd4SE"
      },
      "outputs": [],
      "source": []
    },
    {
      "cell_type": "markdown",
      "source": [
        "print(Hello"
      ],
      "metadata": {
        "id": "NV6sWQCMgaqF"
      }
    },
    {
      "cell_type": "code",
      "source": [
        "print ('Hello, Python')"
      ],
      "metadata": {
        "colab": {
          "base_uri": "https://localhost:8080/"
        },
        "id": "MhRDsFw5jQJ6",
        "outputId": "0c2449e4-45b6-44e7-8155-c886c020f37b"
      },
      "execution_count": null,
      "outputs": [
        {
          "output_type": "stream",
          "name": "stdout",
          "text": [
            "Hello, Python\n"
          ]
        }
      ]
    },
    {
      "cell_type": "code",
      "source": [
        "print (\"\"Universitas Tidar\"\")"
      ],
      "metadata": {
        "colab": {
          "base_uri": "https://localhost:8080/",
          "height": 106
        },
        "id": "nEHHNSs3j1BU",
        "outputId": "291dc178-e98b-4b06-fc50-1f6a7448c78c"
      },
      "execution_count": null,
      "outputs": [
        {
          "output_type": "error",
          "ename": "SyntaxError",
          "evalue": "invalid syntax. Perhaps you forgot a comma? (<ipython-input-2-e30cb10e0a06>, line 1)",
          "traceback": [
            "\u001b[0;36m  File \u001b[0;32m\"<ipython-input-2-e30cb10e0a06>\"\u001b[0;36m, line \u001b[0;32m1\u001b[0m\n\u001b[0;31m    print (\"\"Universitas Tidar\"\")\u001b[0m\n\u001b[0m           ^\u001b[0m\n\u001b[0;31mSyntaxError\u001b[0m\u001b[0;31m:\u001b[0m invalid syntax. Perhaps you forgot a comma?\n"
          ]
        }
      ]
    },
    {
      "cell_type": "code",
      "source": [
        "print(sys.version)"
      ],
      "metadata": {
        "colab": {
          "base_uri": "https://localhost:8080/",
          "height": 141
        },
        "id": "jTjcD0wGk1XK",
        "outputId": "6647067c-8326-4286-8f6a-402aaf6035de"
      },
      "execution_count": null,
      "outputs": [
        {
          "output_type": "error",
          "ename": "NameError",
          "evalue": "name 'sys' is not defined",
          "traceback": [
            "\u001b[0;31m---------------------------------------------------------------------------\u001b[0m",
            "\u001b[0;31mNameError\u001b[0m                                 Traceback (most recent call last)",
            "\u001b[0;32m<ipython-input-3-c4f95efce128>\u001b[0m in \u001b[0;36m<cell line: 1>\u001b[0;34m()\u001b[0m\n\u001b[0;32m----> 1\u001b[0;31m \u001b[0mprint\u001b[0m\u001b[0;34m(\u001b[0m\u001b[0msys\u001b[0m\u001b[0;34m.\u001b[0m\u001b[0mversion\u001b[0m\u001b[0;34m)\u001b[0m\u001b[0;34m\u001b[0m\u001b[0;34m\u001b[0m\u001b[0m\n\u001b[0m",
            "\u001b[0;31mNameError\u001b[0m: name 'sys' is not defined"
          ]
        }
      ]
    },
    {
      "cell_type": "code",
      "source": [
        "print('Hello,Python!')\n",
        "print('Hi')"
      ],
      "metadata": {
        "colab": {
          "base_uri": "https://localhost:8080/"
        },
        "id": "oM3iyMYLl_Y7",
        "outputId": "6c0a967c-c1f8-407d-fbaf-eb4234f52f13"
      },
      "execution_count": null,
      "outputs": [
        {
          "output_type": "stream",
          "name": "stdout",
          "text": [
            "Hello,Python!\n",
            "Hi\n"
          ]
        }
      ]
    },
    {
      "cell_type": "code",
      "source": [
        "frint(\"Hello, Print\")"
      ],
      "metadata": {
        "colab": {
          "base_uri": "https://localhost:8080/",
          "height": 141
        },
        "id": "ytQAd5_8mdn3",
        "outputId": "bc214174-5920-4d53-b2ad-1c2ed6cb355e"
      },
      "execution_count": null,
      "outputs": [
        {
          "output_type": "error",
          "ename": "NameError",
          "evalue": "name 'frint' is not defined",
          "traceback": [
            "\u001b[0;31m---------------------------------------------------------------------------\u001b[0m",
            "\u001b[0;31mNameError\u001b[0m                                 Traceback (most recent call last)",
            "\u001b[0;32m<ipython-input-5-3fb1f1e7b301>\u001b[0m in \u001b[0;36m<cell line: 1>\u001b[0;34m()\u001b[0m\n\u001b[0;32m----> 1\u001b[0;31m \u001b[0mfrint\u001b[0m\u001b[0;34m(\u001b[0m\u001b[0;34m\"Hello, Print\"\u001b[0m\u001b[0;34m)\u001b[0m\u001b[0;34m\u001b[0m\u001b[0;34m\u001b[0m\u001b[0m\n\u001b[0m",
            "\u001b[0;31mNameError\u001b[0m: name 'frint' is not defined"
          ]
        }
      ]
    },
    {
      "cell_type": "code",
      "source": [
        "print(\"Hello, Python!\")"
      ],
      "metadata": {
        "colab": {
          "base_uri": "https://localhost:8080/"
        },
        "id": "jo-ccvUgm6i-",
        "outputId": "6dc5d894-6aae-4942-d6a7-d2b646f6bbf2"
      },
      "execution_count": null,
      "outputs": [
        {
          "output_type": "stream",
          "name": "stdout",
          "text": [
            "Hello, Python!\n"
          ]
        }
      ]
    },
    {
      "cell_type": "code",
      "source": [
        "print(\"This will be printed\")\n",
        "frint(\"This will cause an error\")\n",
        "print(\"This will NOT be printed\")"
      ],
      "metadata": {
        "colab": {
          "base_uri": "https://localhost:8080/",
          "height": 193
        },
        "id": "q5V2sgXSnFa6",
        "outputId": "24699de1-3466-4a76-cf6d-c1c159d4fd3f"
      },
      "execution_count": null,
      "outputs": [
        {
          "output_type": "stream",
          "name": "stdout",
          "text": [
            "This will be printed\n"
          ]
        },
        {
          "output_type": "error",
          "ename": "NameError",
          "evalue": "name 'frint' is not defined",
          "traceback": [
            "\u001b[0;31m---------------------------------------------------------------------------\u001b[0m",
            "\u001b[0;31mNameError\u001b[0m                                 Traceback (most recent call last)",
            "\u001b[0;32m<ipython-input-7-aa3f0d14d353>\u001b[0m in \u001b[0;36m<cell line: 2>\u001b[0;34m()\u001b[0m\n\u001b[1;32m      1\u001b[0m \u001b[0mprint\u001b[0m\u001b[0;34m(\u001b[0m\u001b[0;34m\"This will be printed\"\u001b[0m\u001b[0;34m)\u001b[0m\u001b[0;34m\u001b[0m\u001b[0;34m\u001b[0m\u001b[0m\n\u001b[0;32m----> 2\u001b[0;31m \u001b[0mfrint\u001b[0m\u001b[0;34m(\u001b[0m\u001b[0;34m\"This will cause an error\"\u001b[0m\u001b[0;34m)\u001b[0m\u001b[0;34m\u001b[0m\u001b[0;34m\u001b[0m\u001b[0m\n\u001b[0m\u001b[1;32m      3\u001b[0m \u001b[0mprint\u001b[0m\u001b[0;34m(\u001b[0m\u001b[0;34m\"This will NOT be printed\"\u001b[0m\u001b[0;34m)\u001b[0m\u001b[0;34m\u001b[0m\u001b[0;34m\u001b[0m\u001b[0m\n",
            "\u001b[0;31mNameError\u001b[0m: name 'frint' is not defined"
          ]
        }
      ]
    },
    {
      "cell_type": "code",
      "source": [
        "# Write your code below and press Shift+Enter to execute"
      ],
      "metadata": {
        "id": "qZ2rVbQ-niNd"
      },
      "execution_count": null,
      "outputs": []
    },
    {
      "cell_type": "code",
      "source": [
        "# Write your code below and press Shift+Enter to excute"
      ],
      "metadata": {
        "id": "OlYceDLKod9O"
      },
      "execution_count": null,
      "outputs": []
    },
    {
      "cell_type": "code",
      "source": [
        "print('Nama         : Nadhifatus Zalfa Az Zanirah')\n",
        "print()\n",
        "print('NPM          : 2410506012')\n",
        "print()\n",
        "print('Alamat       : Gunungmujil RT 01 RW 04 Kuwarasan, Kebumen')\n",
        "print()\n",
        "print('Tinggi Badan : 151')\n",
        "print()\n",
        "print('Berat Badan  : 43')"
      ],
      "metadata": {
        "colab": {
          "base_uri": "https://localhost:8080/"
        },
        "id": "a-HnEfcNqV2Y",
        "outputId": "bf86c7cc-7ea8-4069-89c8-2b075d479cf8"
      },
      "execution_count": null,
      "outputs": [
        {
          "output_type": "stream",
          "name": "stdout",
          "text": [
            "Nama         : Nadhifatus Zalfa Az Zanirah\n",
            "\n",
            "NPM          : 2410506012\n",
            "\n",
            "Alamat       : Gunungmujil RT 01 RW 04 Kuwarasan, Kebumen\n",
            "\n",
            "Tinggi Badan : 151\n",
            "\n",
            "Berat Badan  : 43\n"
          ]
        }
      ]
    },
    {
      "cell_type": "markdown",
      "source": [],
      "metadata": {
        "id": "XpDJgWv4w8uj"
      }
    },
    {
      "cell_type": "markdown",
      "source": [],
      "metadata": {
        "id": "smLt8y-Bzc1U"
      }
    },
    {
      "cell_type": "code",
      "source": [
        "print(\"\\033[1mUNIVERSITAS TIDAR\\033[0m\")\n",
        "print(\"Universitas Tidar merupakan Perguruan Tinggi Pemerintah atau Perguruan Tinggi Negeri yang telah ditetapkan berdasarkan Peraturan Presiden Republik Indonesia Nomor 23 Tahun 2014 pada tanggal 1 April 2014\")\n",
        "print(\"\")\n",
        "print(\"\\033[1mJURUSAN TEKNIK ELEKTRO, MEKATRONIKA DAN INFORMASI\\033[0m\")\n",
        "print(\"Jurusan Teknik Elektro terdiri dari tiga program studi antara lain:\")\n",
        "print(\" 1. S1 Teknik Elektro (\\033[3mBachelor of Electrical Engineering)\\033[0m\")\n",
        "print(\" 2. S1 Teknologi Informasi (\\033[3mBachelor of Information TechnBachelor of Electrical Engineeringology)\\033[0m\")\n",
        "print(\" 3. S1 Teknik Mekatronika (\\033[3mBachelor of Mechatronica Engineering)\\033[0m\")"
      ],
      "metadata": {
        "colab": {
          "base_uri": "https://localhost:8080/"
        },
        "id": "jXGxYkLOshv8",
        "outputId": "f5cd25c3-68f1-40c1-f55c-0d3057675443"
      },
      "execution_count": 1,
      "outputs": [
        {
          "output_type": "stream",
          "name": "stdout",
          "text": [
            "\u001b[1mUNIVERSITAS TIDAR\u001b[0m\n",
            "Universitas Tidar merupakan Perguruan Tinggi Pemerintah atau Perguruan Tinggi Negeri yang telah ditetapkan berdasarkan Peraturan Presiden Republik Indonesia Nomor 23 Tahun 2014 pada tanggal 1 April 2014\n",
            "\n",
            "\u001b[1mJURUSAN TEKNIK ELEKTRO, MEKATRONIKA DAN INFORMASI\u001b[0m\n",
            "Jurusan Teknik Elektro terdiri dari tiga program studi antara lain:\n",
            " 1. S1 Teknik Elektro (\u001b[3mBachelor of Electrical Engineering)\u001b[0m\n",
            " 2. S1 Teknologi Informasi (\u001b[3mBachelor of Information TechnBachelor of Electrical Engineeringology)\u001b[0m\n",
            " 3. S1 Teknik Mekatronika (\u001b[3mBachelor of Mechatronica Engineering)\u001b[0m\n"
          ]
        }
      ]
    },
    {
      "cell_type": "markdown",
      "source": [],
      "metadata": {
        "id": "BdXv9Y8ow8M9"
      }
    },
    {
      "cell_type": "markdown",
      "source": [
        "print('Hell"
      ],
      "metadata": {
        "id": "F-HUb_g_iihO"
      }
    },
    {
      "cell_type": "markdown",
      "source": [],
      "metadata": {
        "id": "g_rfbR8BieAE"
      }
    },
    {
      "cell_type": "markdown",
      "source": [],
      "metadata": {
        "id": "nAMZU_PIgRqh"
      }
    }
  ]
}